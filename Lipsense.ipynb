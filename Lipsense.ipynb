{
  "cells": [
    {
      "cell_type": "markdown",
      "metadata": {
        "id": "T86ZQxxED6Ws"
      },
      "source": [
        "# 1. Install and Imports"
      ]
    },
    {
      "cell_type": "markdown",
      "metadata": {
        "id": "ZfAQn-GMmIjb"
      },
      "source": [
        "Installing and importing our requirements for the model."
      ]
    },
    {
      "cell_type": "code",
      "execution_count": 1,
      "metadata": {
        "id": "pEtg8rIpDv9k"
      },
      "outputs": [],
      "source": [
        "import os\n",
        "import cv2\n",
        "import tensorflow as tf\n",
        "import numpy as np\n",
        "import matplotlib.pyplot as plt\n",
        "import imageio #render post processed output a lot better (better while working w/ videos)\n",
        "from typing import List #List type annotations"
      ]
    },
    {
      "cell_type": "code",
      "execution_count": 3,
      "metadata": {
        "colab": {
          "base_uri": "https://localhost:8080/"
        },
        "id": "y3ogQiAaDz8f",
        "outputId": "edd687a6-6174-414d-ba6d-61f9ac18efcb"
      },
      "outputs": [
        {
          "data": {
            "text/plain": [
              "[PhysicalDevice(name='/physical_device:GPU:0', device_type='GPU')]"
            ]
          },
          "execution_count": 3,
          "metadata": {},
          "output_type": "execute_result"
        }
      ],
      "source": [
        "tf.config.list_physical_devices('GPU')"
      ]
    },
    {
      "cell_type": "code",
      "execution_count": 4,
      "metadata": {
        "id": "pA-oII3ID298"
      },
      "outputs": [],
      "source": [
        "#prevents machine from sucking up all memory and get out of memory errors\n",
        "physical_devices = tf.config.list_physical_devices('GPU')\n",
        "try:\n",
        "  tf.config.experimental.set_memory_growth(physical_devices[0],True)\n",
        "except:\n",
        "  pass"
      ]
    },
    {
      "cell_type": "markdown",
      "metadata": {
        "id": "jvODvPtDnu8z"
      },
      "source": [
        "# 2. Functions"
      ]
    },
    {
      "cell_type": "markdown",
      "metadata": {
        "id": "geWyH65srpQT"
      },
      "source": [
        "These functions help the model load data into its testing and training samples and use the videos and Alignment to understand the information per frames."
      ]
    },
    {
      "cell_type": "code",
      "execution_count": 6,
      "metadata": {
        "id": "42G_Vh8tEV5z"
      },
      "outputs": [],
      "source": [
        "def load_video(path: str) -> tf.Tensor:\n",
        "    # Create OpenCV video capture instance\n",
        "    cap = cv2.VideoCapture(path)\n",
        "    frames = []\n",
        "    \n",
        "    # Loop through each frame and store the extracted frames in an array\n",
        "    for _ in range(int(cap.get(cv2.CAP_PROP_FRAME_COUNT))):\n",
        "        ret, frame = cap.read()\n",
        "        if not ret:\n",
        "            break  # End of video or error\n",
        "        \n",
        "        # Convert frame to tensor (from NumPy array)\n",
        "        frame = tf.convert_to_tensor(frame, dtype=tf.float32)\n",
        "        \n",
        "        # Convert RGB to grayscale\n",
        "        frame = tf.image.rgb_to_grayscale(frame)\n",
        "        \n",
        "        # Cropping to the lip region (static slicing)\n",
        "        cropped_frame = frame[190:236,80:220,:]\n",
        "        \n",
        "        # Append the cropped frame to the list\n",
        "        frames.append(cropped_frame)\n",
        "    \n",
        "    # Release video capture object\n",
        "    cap.release()\n",
        "    \n",
        "    # Stack frames into a single tensor\n",
        "    frames_tensor = tf.stack(frames)\n",
        "\n",
        "    # Normalize the tensor by mean and std\n",
        "    mean = tf.math.reduce_mean(frames_tensor)\n",
        "    std = tf.math.reduce_std(frames_tensor)\n",
        "    \n",
        "    # Avoid division by zero in case std is zero\n",
        "    std = tf.maximum(std, 1e-8)\n",
        "    \n",
        "    # Return normalized frames\n",
        "    return tf.cast((frames_tensor - mean), tf.float32) / std\n"
      ]
    },
    {
      "cell_type": "code",
      "execution_count": 7,
      "metadata": {
        "id": "nPlCK-qyEcjp"
      },
      "outputs": [],
      "source": [
        "#creating vocab- every single character that is expected to be encountered in our annotations\n",
        "vocab= [x for x in \"abcdefghijklmnopqrstuvwxyz'?!123456789 \"]"
      ]
    },
    {
      "cell_type": "code",
      "execution_count": 8,
      "metadata": {
        "colab": {
          "base_uri": "https://localhost:8080/"
        },
        "id": "slLq9EtUEg2n",
        "outputId": "72719e62-0c8c-4a94-9410-fc24c4cef6a2"
      },
      "outputs": [
        {
          "name": "stdout",
          "output_type": "stream",
          "text": [
            "the vocabulary is : ['', 'a', 'b', 'c', 'd', 'e', 'f', 'g', 'h', 'i', 'j', 'k', 'l', 'm', 'n', 'o', 'p', 'q', 'r', 's', 't', 'u', 'v', 'w', 'x', 'y', 'z', \"'\", '?', '!', '1', '2', '3', '4', '5', '6', '7', '8', '9', ' ']\n",
            "size is : 40\n"
          ]
        }
      ],
      "source": [
        "#originally from the keras ctc Automatic Speech Recognition tutorial paper\n",
        "char_to_num = tf.keras.layers.StringLookup(vocabulary=vocab, oov_token=\"\") #converts char to num\n",
        "num_to_char = tf.keras.layers.StringLookup(\n",
        "    vocabulary= char_to_num.get_vocabulary(), oov_token=\"\", invert=True) #converts num to char\n",
        "\n",
        "\n",
        "print(\n",
        "    f\"the vocabulary is : {char_to_num.get_vocabulary()}\\n\"\n",
        "    f\"size is : {char_to_num.vocabulary_size()}\"\n",
        ")"
      ]
    },
    {
      "cell_type": "code",
      "execution_count": 9,
      "metadata": {
        "id": "TZjVLOp4Ejxj"
      },
      "outputs": [],
      "source": [
        "#load up our alignments\n",
        "def load_alignments(path:str) -> List[str]:\n",
        "    with open(path, 'r') as f:\n",
        "        lines = f.readlines()\n",
        "    tokens = []\n",
        "    for line in lines:\n",
        "        line = line.split()\n",
        "        if line[2] != 'sil':\n",
        "            tokens = [*tokens,' ',line[2]]\n",
        "    return char_to_num(tf.reshape(tf.strings.unicode_split(tokens, input_encoding='UTF-8'), (-1)))[1:]\n"
      ]
    },
    {
      "cell_type": "code",
      "execution_count": 10,
      "metadata": {
        "id": "NNjJg1-SErGB"
      },
      "outputs": [],
      "source": [
        "#returning the preprocessed videos and preprocessed alignments together from their respective paths\n",
        "\n",
        "def load_data(path:str):\n",
        "  path = bytes.decode(path.numpy())\n",
        "  #filename = path.split('/')[-1].split('.')[0] #colab\n",
        "  filename = path.split('\\\\')[-1].split('.')[0]\n",
        "  #for windows.\n",
        "  video_path = os.path.join('data','s1',f'{filename}.mpg')\n",
        "  alignment_path = os.path.join('data','alignments','s1',f'{filename}.align')\n",
        "  frames=load_video(video_path)\n",
        "  alignments = load_alignments(alignment_path)\n",
        "\n",
        "  return frames, alignments"
      ]
    },
    {
      "cell_type": "markdown",
      "metadata": {
        "id": "BeIrjKrHoJCh"
      },
      "source": [
        "# 3. Checking data and Lip viusalization"
      ]
    },
    {
      "cell_type": "markdown",
      "metadata": {
        "id": "e8jd1cKesIgo"
      },
      "source": [
        "We see that the data has been properly comprehended by the functions and see how the lips are seen by the model."
      ]
    },
    {
      "cell_type": "code",
      "execution_count": 11,
      "metadata": {
        "id": "jUYL7rnGEvGB"
      },
      "outputs": [],
      "source": [
        "test_path = '\\\\data\\\\s1\\\\bbal6n.mpg'"
      ]
    },
    {
      "cell_type": "code",
      "execution_count": 12,
      "metadata": {
        "colab": {
          "base_uri": "https://localhost:8080/",
          "height": 35
        },
        "id": "dkjwvgIXVlBQ",
        "outputId": "98ce19c5-f9e2-42e8-cda3-046560976d8e"
      },
      "outputs": [
        {
          "data": {
            "text/plain": [
              "'bbal6n'"
            ]
          },
          "execution_count": 12,
          "metadata": {},
          "output_type": "execute_result"
        }
      ],
      "source": [
        "#filename\n",
        "tf.convert_to_tensor(test_path).numpy().decode('utf-8').split('\\\\')[-1].split('.')[0]"
      ]
    },
    {
      "cell_type": "code",
      "execution_count": 13,
      "metadata": {
        "id": "4LX_42ZDAqlK"
      },
      "outputs": [],
      "source": [
        "frames,alignments = load_data(tf.convert_to_tensor(test_path))"
      ]
    },
    {
      "cell_type": "code",
      "execution_count": 14,
      "metadata": {
        "id": "rilRi9QQVl3L"
      },
      "outputs": [],
      "source": [
        "mean = tf.math.reduce_mean(frames, axis=[0, 1, 2], keepdims=True)\n",
        "std = tf.math.reduce_std(tf.cast(frames, tf.float32), axis=[0, 1, 2], keepdims=True)\n",
        "frames = tf.cast(frames, tf.float32)\n",
        "normalized_frames = (frames - mean) / std"
      ]
    },
    {
      "cell_type": "code",
      "execution_count": 15,
      "metadata": {
        "colab": {
          "base_uri": "https://localhost:8080/",
          "height": 244
        },
        "id": "84-yHEwsVoE9",
        "outputId": "d628ff4d-2d88-4694-9d0c-6b29a3902222"
      },
      "outputs": [
        {
          "data": {
            "text/plain": [
              "<matplotlib.image.AxesImage at 0x1b37f16b460>"
            ]
          },
          "execution_count": 15,
          "metadata": {},
          "output_type": "execute_result"
        },
        {
          "data": {
            "image/png": "[encoded data removed]",
            "text/plain": [
              "<Figure size 640x480 with 1 Axes>"
            ]
          },
          "metadata": {},
          "output_type": "display_data"
        }
      ],
      "source": [
        "plt.imshow(frames[0])"
      ]
    },
    {
      "cell_type": "code",
      "execution_count": 16,
      "metadata": {
        "colab": {
          "base_uri": "https://localhost:8080/",
          "height": 244
        },
        "id": "VsaIcICeVqVL",
        "outputId": "ecb288ad-681e-4309-c31b-7731cb1e5d68"
      },
      "outputs": [
        {
          "data": {
            "text/plain": [
              "<matplotlib.image.AxesImage at 0x1b37fd9eb30>"
            ]
          },
          "execution_count": 16,
          "metadata": {},
          "output_type": "execute_result"
        },
        {
          "data": {
            "image/png": "[encoded data removed]",
            "text/plain": [
              "<Figure size 640x480 with 1 Axes>"
            ]
          },
          "metadata": {},
          "output_type": "display_data"
        }
      ],
      "source": [
        "plt.imshow(frames[40])"
      ]
    },
    {
      "cell_type": "code",
      "execution_count": 17,
      "metadata": {
        "colab": {
          "base_uri": "https://localhost:8080/"
        },
        "id": "78aB1_xcVtVS",
        "outputId": "77dc0c80-df97-4b10-bb63-071d66d93dc3"
      },
      "outputs": [
        {
          "data": {
            "text/plain": [
              "<tf.Tensor: shape=(21,), dtype=int64, numpy=\n",
              "array([ 2,  9, 14, 39,  2, 12, 21,  5, 39,  1, 20, 39, 12, 39, 19,  9, 24,\n",
              "       39, 14, 15, 23], dtype=int64)>"
            ]
          },
          "execution_count": 17,
          "metadata": {},
          "output_type": "execute_result"
        }
      ],
      "source": [
        "alignments"
      ]
    },
    {
      "cell_type": "code",
      "execution_count": 18,
      "metadata": {
        "colab": {
          "base_uri": "https://localhost:8080/"
        },
        "id": "mTMzgUx9VwyN",
        "outputId": "71f54eee-e2e0-4c41-c295-652d3f3e28da"
      },
      "outputs": [
        {
          "data": {
            "text/plain": [
              "<tf.Tensor: shape=(), dtype=string, numpy=b'bin blue at l six now'>"
            ]
          },
          "execution_count": 18,
          "metadata": {},
          "output_type": "execute_result"
        }
      ],
      "source": [
        "tf.strings.reduce_join([num_to_char(word) for word in alignments])"
      ]
    },
    {
      "cell_type": "code",
      "execution_count": 19,
      "metadata": {
        "id": "CXTRVLsVV2rI"
      },
      "outputs": [],
      "source": [
        "def mappable_function(path:str)->List[str]:\n",
        "  result=tf.py_function(load_data, [path], (tf.float32,tf.int64))\n",
        "  return result"
      ]
    },
    {
      "cell_type": "markdown",
      "metadata": {
        "id": "xZe3KiKNV5DC"
      },
      "source": [
        "# 4. Creating Data Pipeline:"
      ]
    },
    {
      "cell_type": "markdown",
      "metadata": {
        "id": "qE4DXNbSV_rd"
      },
      "source": [
        "Creating our data pipeline:\n",
        "\n",
        "1. using tensorflow data pipeline we iterate thrugh our videos path.\n",
        "2. shuffle to get a random video path everytime\n",
        "3. map the video to its alignments\n",
        "4. add padding to the alignments (length=40) and take 75 frames for each video (we dont pad each frame/image). Take 2 sets of videos & alignments in one batch.\n",
        "5. prefetching in order to optimize our pipileine to ensure we are loading and preloading while our model is training.\n"
      ]
    },
    {
      "cell_type": "code",
      "execution_count": 20,
      "metadata": {
        "id": "QzJLimvUV4ZS"
      },
      "outputs": [],
      "source": [
        "data = tf.data.Dataset.list_files('./data/s1/*.mpg')\n",
        "data = data.shuffle(500,reshuffle_each_iteration=False)\n",
        "data = data.map(mappable_function)\n",
        "data = data.padded_batch(2, padded_shapes=([75,None,None,None],[40]))\n",
        "data = data.prefetch(tf.data.AUTOTUNE)\n",
        "#Added for split\n",
        "train= data.take(450)\n",
        "test= data.skip(450)"
      ]
    },
    {
      "cell_type": "code",
      "execution_count": 21,
      "metadata": {
        "colab": {
          "base_uri": "https://localhost:8080/"
        },
        "id": "cIT4H9mXYZde",
        "outputId": "6c4b38a7-8a76-4f44-ba18-88249422eec2"
      },
      "outputs": [
        {
          "data": {
            "text/plain": [
              "450"
            ]
          },
          "execution_count": 21,
          "metadata": {},
          "output_type": "execute_result"
        }
      ],
      "source": [
        "len(train)"
      ]
    },
    {
      "cell_type": "code",
      "execution_count": 22,
      "metadata": {
        "colab": {
          "base_uri": "https://localhost:8080/"
        },
        "id": "mmNWkR20YRnL",
        "outputId": "9f28cee8-209d-44f4-af25-ce3a4e4d7777"
      },
      "outputs": [
        {
          "data": {
            "text/plain": [
              "50"
            ]
          },
          "execution_count": 22,
          "metadata": {},
          "output_type": "execute_result"
        }
      ],
      "source": [
        "len(test)"
      ]
    },
    {
      "cell_type": "code",
      "execution_count": 23,
      "metadata": {
        "id": "_NmvNDsEWFHO"
      },
      "outputs": [],
      "source": [
        "#testing each code line in data pipeline:\n",
        "frames,aligns = data.as_numpy_iterator().next()"
      ]
    },
    {
      "cell_type": "code",
      "execution_count": 24,
      "metadata": {
        "colab": {
          "base_uri": "https://localhost:8080/"
        },
        "id": "Jpxir0QJWHrU",
        "outputId": "3062eb7d-2383-4163-9263-4d959aa45654"
      },
      "outputs": [
        {
          "data": {
            "text/plain": [
              "2"
            ]
          },
          "execution_count": 24,
          "metadata": {},
          "output_type": "execute_result"
        }
      ],
      "source": [
        "len(frames) #2 set of frmes in each batch."
      ]
    },
    {
      "cell_type": "code",
      "execution_count": 25,
      "metadata": {
        "colab": {
          "base_uri": "https://localhost:8080/",
          "height": 244
        },
        "id": "sRGkrs6hWJQx",
        "outputId": "8e0a0230-f448-4bbd-dc23-f04211ec90b3"
      },
      "outputs": [
        {
          "data": {
            "text/plain": [
              "<matplotlib.image.AxesImage at 0x1b37fe5ab90>"
            ]
          },
          "execution_count": 25,
          "metadata": {},
          "output_type": "execute_result"
        },
        {
          "data": {
            "image/png": "[encoded data removed]",
            "text/plain": [
              "<Figure size 640x480 with 1 Axes>"
            ]
          },
          "metadata": {},
          "output_type": "display_data"
        }
      ],
      "source": [
        "plt.imshow(frames[0][29]) #29th frame of first video"
      ]
    },
    {
      "cell_type": "code",
      "execution_count": 26,
      "metadata": {
        "colab": {
          "base_uri": "https://localhost:8080/"
        },
        "id": "tVnmYGzBWK-U",
        "outputId": "f26b2a4f-4be0-4e27-99f0-3284a1e34569"
      },
      "outputs": [
        {
          "data": {
            "text/plain": [
              "array([19,  5, 20, 39,  2, 12, 21,  5, 39,  9, 14, 39, 13, 39,  5,  9,  7,\n",
              "        8, 20, 39, 14, 15, 23,  0,  0,  0,  0,  0,  0,  0,  0,  0,  0,  0,\n",
              "        0,  0,  0,  0,  0,  0], dtype=int64)"
            ]
          },
          "execution_count": 26,
          "metadata": {},
          "output_type": "execute_result"
        }
      ],
      "source": [
        "aligns[0] #first video alignment with padding."
      ]
    },
    {
      "cell_type": "code",
      "execution_count": 27,
      "metadata": {
        "id": "cbmedRuuWMnF"
      },
      "outputs": [],
      "source": [
        "test1= data.as_numpy_iterator()"
      ]
    },
    {
      "cell_type": "code",
      "execution_count": 28,
      "metadata": {
        "colab": {
          "base_uri": "https://localhost:8080/"
        },
        "id": "WtYUjB90WN7l",
        "outputId": "c1400195-8337-457c-a52f-8c869d3ba8bb"
      },
      "outputs": [
        {
          "data": {
            "text/plain": [
              "array([[[[[ 1.51554763e+00],\n",
              "          [ 1.51554763e+00],\n",
              "          [ 1.49100471e+00],\n",
              "          ...,\n",
              "          [ 1.60709709e-01],\n",
              "          [ 1.00876845e-01],\n",
              "          [ 1.00876845e-01]],\n",
              "\n",
              "         [[ 1.51554763e+00],\n",
              "          [ 1.51554763e+00],\n",
              "          [ 1.49100471e+00],\n",
              "          ...,\n",
              "          [ 1.60709709e-01],\n",
              "          [ 1.00876845e-01],\n",
              "          [ 1.00876845e-01]],\n",
              "\n",
              "         [[ 1.43490148e+00],\n",
              "          [ 1.43490148e+00],\n",
              "          [ 1.43490148e+00],\n",
              "          ...,\n",
              "          [ 6.05534315e-02],\n",
              "          [ 6.05534315e-02],\n",
              "          [ 6.05534315e-02]],\n",
              "\n",
              "         ...,\n",
              "\n",
              "         [[ 1.07018709e+00],\n",
              "          [ 1.02986431e+00],\n",
              "          [ 1.02986431e+00],\n",
              "          ...,\n",
              "          [-2.14069784e-01],\n",
              "          [-2.14069784e-01],\n",
              "          [-2.14069784e-01]],\n",
              "\n",
              "         [[ 1.02986431e+00],\n",
              "          [ 1.02986431e+00],\n",
              "          [ 1.02986431e+00],\n",
              "          ...,\n",
              "          [-2.54393190e-01],\n",
              "          [-2.54393190e-01],\n",
              "          [-2.54393190e-01]],\n",
              "\n",
              "         [[ 1.02986431e+00],\n",
              "          [ 1.02986431e+00],\n",
              "          [ 1.02986431e+00],\n",
              "          ...,\n",
              "          [-2.54393190e-01],\n",
              "          [-2.54393190e-01],\n",
              "          [-2.54393190e-01]]],\n",
              "\n",
              "\n",
              "        [[[ 1.49144030e+00],\n",
              "          [ 1.49144030e+00],\n",
              "          [ 1.49100471e+00],\n",
              "          ...,\n",
              "          [ 9.58439559e-02],\n",
              "          [ 2.15326920e-02],\n",
              "          [ 2.15326920e-02]],\n",
              "\n",
              "         [[ 1.49144030e+00],\n",
              "          [ 1.49144030e+00],\n",
              "          [ 1.49100471e+00],\n",
              "          ...,\n",
              "          [ 9.58439559e-02],\n",
              "          [ 2.15326920e-02],\n",
              "          [ 2.15326920e-02]],\n",
              "\n",
              "         [[ 1.42570639e+00],\n",
              "          [ 1.42570639e+00],\n",
              "          [ 1.43490148e+00],\n",
              "          ...,\n",
              "          [ 5.55211566e-02],\n",
              "          [ 3.64461429e-02],\n",
              "          [ 3.64461429e-02]],\n",
              "\n",
              "         ...,\n",
              "\n",
              "         [[ 1.02986431e+00],\n",
              "          [ 1.02986431e+00],\n",
              "          [ 1.02986431e+00],\n",
              "          ...,\n",
              "          [-2.54393190e-01],\n",
              "          [-2.54393190e-01],\n",
              "          [-2.54393190e-01]],\n",
              "\n",
              "         [[ 1.02986431e+00],\n",
              "          [ 1.02986431e+00],\n",
              "          [ 1.02986431e+00],\n",
              "          ...,\n",
              "          [-2.54393190e-01],\n",
              "          [-2.54393190e-01],\n",
              "          [-2.54393190e-01]],\n",
              "\n",
              "         [[ 1.02986431e+00],\n",
              "          [ 1.02986431e+00],\n",
              "          [ 9.89540875e-01],\n",
              "          ...,\n",
              "          [-2.54393190e-01],\n",
              "          [-2.54393190e-01],\n",
              "          [-2.54393190e-01]]],\n",
              "\n",
              "\n",
              "        [[[ 1.48224592e+00],\n",
              "          [ 1.48224592e+00],\n",
              "          [ 1.50088465e+00],\n",
              "          ...,\n",
              "          [ 9.54082981e-02],\n",
              "          [-2.57459446e-03],\n",
              "          [-2.57459446e-03]],\n",
              "\n",
              "         [[ 1.48224592e+00],\n",
              "          [ 1.48224592e+00],\n",
              "          [ 1.50088465e+00],\n",
              "          ...,\n",
              "          [ 9.54082981e-02],\n",
              "          [-2.57459446e-03],\n",
              "          [-2.57459446e-03]],\n",
              "\n",
              "         [[ 1.40159905e+00],\n",
              "          [ 1.40159905e+00],\n",
              "          [ 1.41079414e+00],\n",
              "          ...,\n",
              "          [ 3.64461429e-02],\n",
              "          [ 2.19683554e-02],\n",
              "          [ 2.19683554e-02]],\n",
              "\n",
              "         ...,\n",
              "\n",
              "         [[ 1.02986431e+00],\n",
              "          [ 1.02986431e+00],\n",
              "          [ 1.02986431e+00],\n",
              "          ...,\n",
              "          [-2.14069784e-01],\n",
              "          [-2.54393190e-01],\n",
              "          [-2.54393190e-01]],\n",
              "\n",
              "         [[ 1.02986431e+00],\n",
              "          [ 1.02986431e+00],\n",
              "          [ 1.02986431e+00],\n",
              "          ...,\n",
              "          [-2.14069784e-01],\n",
              "          [-2.54393190e-01],\n",
              "          [-2.54393190e-01]],\n",
              "\n",
              "         [[ 1.02986431e+00],\n",
              "          [ 1.02986431e+00],\n",
              "          [ 9.89540875e-01],\n",
              "          ...,\n",
              "          [-2.54393190e-01],\n",
              "          [-2.54393190e-01],\n",
              "          [-2.54393190e-01]]],\n",
              "\n",
              "\n",
              "        ...,\n",
              "\n",
              "\n",
              "        [[[ 1.50132024e+00],\n",
              "          [ 1.50132024e+00],\n",
              "          [ 1.54034042e+00],\n",
              "          ...,\n",
              "          [ 6.09890930e-02],\n",
              "          [ 3.64461429e-02],\n",
              "          [ 3.64461429e-02]],\n",
              "\n",
              "         [[ 1.42067409e+00],\n",
              "          [ 1.42067409e+00],\n",
              "          [ 1.45969415e+00],\n",
              "          ...,\n",
              "          [ 6.09890930e-02],\n",
              "          [ 3.64461429e-02],\n",
              "          [ 3.64461429e-02]],\n",
              "\n",
              "         [[ 1.43490148e+00],\n",
              "          [ 1.43490148e+00],\n",
              "          [ 1.43490148e+00],\n",
              "          ...,\n",
              "          [ 5.55211566e-02],\n",
              "          [ 5.55211566e-02],\n",
              "          [ 1.51971225e-02]],\n",
              "\n",
              "         ...,\n",
              "\n",
              "         [[ 1.04017925e+00],\n",
              "          [ 1.04017925e+00],\n",
              "          [ 1.02110493e+00],\n",
              "          ...,\n",
              "          [-2.54393190e-01],\n",
              "          [-2.54393190e-01],\n",
              "          [-2.54393190e-01]],\n",
              "\n",
              "         [[ 1.04017925e+00],\n",
              "          [ 1.04017925e+00],\n",
              "          [ 1.02110493e+00],\n",
              "          ...,\n",
              "          [-2.54393190e-01],\n",
              "          [-2.54393190e-01],\n",
              "          [-2.54393190e-01]],\n",
              "\n",
              "         [[ 1.04017925e+00],\n",
              "          [ 1.04017925e+00],\n",
              "          [ 9.80781436e-01],\n",
              "          ...,\n",
              "          [-2.94716626e-01],\n",
              "          [-2.94716626e-01],\n",
              "          [-2.94716626e-01]]],\n",
              "\n",
              "\n",
              "        [[[ 1.50635314e+00],\n",
              "          [ 1.50635314e+00],\n",
              "          [ 1.53990471e+00],\n",
              "          ...,\n",
              "          [ 6.05534315e-02],\n",
              "          [ 2.19683554e-02],\n",
              "          [ 2.19683554e-02]],\n",
              "\n",
              "         [[ 1.42570639e+00],\n",
              "          [ 1.42570639e+00],\n",
              "          [ 1.45925915e+00],\n",
              "          ...,\n",
              "          [ 6.05534315e-02],\n",
              "          [ 2.19683554e-02],\n",
              "          [ 2.19683554e-02]],\n",
              "\n",
              "         [[ 1.51554763e+00],\n",
              "          [ 1.51554763e+00],\n",
              "          [ 1.51554763e+00],\n",
              "          ...,\n",
              "          [ 1.51971225e-02],\n",
              "          [ 3.64461429e-02],\n",
              "          [-3.87666002e-03]],\n",
              "\n",
              "         ...,\n",
              "\n",
              "         [[ 9.99856472e-01],\n",
              "          [ 9.99856472e-01],\n",
              "          [ 9.80781436e-01],\n",
              "          ...,\n",
              "          [-2.39480361e-01],\n",
              "          [-2.39480361e-01],\n",
              "          [-2.39480361e-01]],\n",
              "\n",
              "         [[ 9.99856472e-01],\n",
              "          [ 9.99856472e-01],\n",
              "          [ 9.80781436e-01],\n",
              "          ...,\n",
              "          [-2.39480361e-01],\n",
              "          [-2.39480361e-01],\n",
              "          [-2.39480361e-01]],\n",
              "\n",
              "         [[ 9.99856472e-01],\n",
              "          [ 9.99856472e-01],\n",
              "          [ 9.40458655e-01],\n",
              "          ...,\n",
              "          [-2.79803783e-01],\n",
              "          [-2.79803783e-01],\n",
              "          [-2.79803783e-01]]],\n",
              "\n",
              "\n",
              "        [[[ 1.55587041e+00],\n",
              "          [ 1.55587041e+00],\n",
              "          [ 1.56618667e+00],\n",
              "          ...,\n",
              "          [ 3.64461429e-02],\n",
              "          [ 5.50854951e-02],\n",
              "          [ 5.50854951e-02]],\n",
              "\n",
              "         [[ 1.51554763e+00],\n",
              "          [ 1.51554763e+00],\n",
              "          [ 1.52586257e+00],\n",
              "          ...,\n",
              "          [ 3.64461429e-02],\n",
              "          [ 5.50854951e-02],\n",
              "          [ 5.50854951e-02]],\n",
              "\n",
              "         [[ 1.50635314e+00],\n",
              "          [ 1.50635314e+00],\n",
              "          [ 1.50635314e+00],\n",
              "          ...,\n",
              "          [ 1.51971225e-02],\n",
              "          [ 3.64461429e-02],\n",
              "          [ 3.64461429e-02]],\n",
              "\n",
              "         ...,\n",
              "\n",
              "         [[ 9.80781436e-01],\n",
              "          [ 9.80781436e-01],\n",
              "          [ 9.89976525e-01],\n",
              "          ...,\n",
              "          [-2.39480361e-01],\n",
              "          [-2.39480361e-01],\n",
              "          [-2.39480361e-01]],\n",
              "\n",
              "         [[ 9.80781436e-01],\n",
              "          [ 9.80781436e-01],\n",
              "          [ 9.89976525e-01],\n",
              "          ...,\n",
              "          [-2.39480361e-01],\n",
              "          [-2.39480361e-01],\n",
              "          [-2.39480361e-01]],\n",
              "\n",
              "         [[ 9.80781436e-01],\n",
              "          [ 9.80781436e-01],\n",
              "          [ 9.49653089e-01],\n",
              "          ...,\n",
              "          [-2.39480361e-01],\n",
              "          [-2.39480361e-01],\n",
              "          [-2.39480361e-01]]]],\n",
              "\n",
              "\n",
              "\n",
              "       [[[[ 1.37693000e+00],\n",
              "          [ 1.37693000e+00],\n",
              "          [ 1.41381872e+00],\n",
              "          ...,\n",
              "          [ 6.23919591e-02],\n",
              "          [ 4.68891263e-02],\n",
              "          [ 4.68891263e-02]],\n",
              "\n",
              "         [[ 1.37693000e+00],\n",
              "          [ 1.37693000e+00],\n",
              "          [ 1.41381872e+00],\n",
              "          ...,\n",
              "          [ 6.23919591e-02],\n",
              "          [ 4.68891263e-02],\n",
              "          [ 4.68891263e-02]],\n",
              "\n",
              "         [[ 1.33190584e+00],\n",
              "          [ 1.33190584e+00],\n",
              "          [ 1.33190584e+00],\n",
              "          ...,\n",
              "          [ 7.03533962e-02],\n",
              "          [ 1.79613307e-02],\n",
              "          [ 1.79613307e-02]],\n",
              "\n",
              "         ...,\n",
              "\n",
              "         [[ 9.43008423e-01],\n",
              "          [ 9.43008423e-01],\n",
              "          [ 9.43008423e-01],\n",
              "          ...,\n",
              "          [-2.25939438e-01],\n",
              "          [-2.25939438e-01],\n",
              "          [-2.25939438e-01]],\n",
              "\n",
              "         [[ 9.43008423e-01],\n",
              "          [ 9.43008423e-01],\n",
              "          [ 9.43008423e-01],\n",
              "          ...,\n",
              "          [-2.64490008e-01],\n",
              "          [-2.64490008e-01],\n",
              "          [-2.64490008e-01]],\n",
              "\n",
              "         [[ 9.43008423e-01],\n",
              "          [ 9.43008423e-01],\n",
              "          [ 9.43008423e-01],\n",
              "          ...,\n",
              "          [-2.64490008e-01],\n",
              "          [-2.64490008e-01],\n",
              "          [-2.64490008e-01]]],\n",
              "\n",
              "\n",
              "        [[[ 1.31349206e+00],\n",
              "          [ 1.31349206e+00],\n",
              "          [ 1.32228303e+00],\n",
              "          ...,\n",
              "          [ 4.20774370e-02],\n",
              "          [ 3.13862935e-02],\n",
              "          [ 3.13862935e-02]],\n",
              "\n",
              "         [[ 1.31349206e+00],\n",
              "          [ 1.31349206e+00],\n",
              "          [ 1.32228303e+00],\n",
              "          ...,\n",
              "          [ 4.20774370e-02],\n",
              "          [ 3.13862935e-02],\n",
              "          [ 3.13862935e-02]],\n",
              "\n",
              "         [[ 1.30719674e+00],\n",
              "          [ 1.30719674e+00],\n",
              "          [ 1.30719674e+00],\n",
              "          ...,\n",
              "          [ 8.85900557e-02],\n",
              "          [ 3.18028107e-02],\n",
              "          [ 3.18028107e-02]],\n",
              "\n",
              "         ...,\n",
              "\n",
              "         [[ 1.02011013e+00],\n",
              "          [ 9.43008423e-01],\n",
              "          [ 9.43008423e-01],\n",
              "          ...,\n",
              "          [-2.07702786e-01],\n",
              "          [-2.07702786e-01],\n",
              "          [-2.07702786e-01]],\n",
              "\n",
              "         [[ 1.02011013e+00],\n",
              "          [ 9.43008423e-01],\n",
              "          [ 9.43008423e-01],\n",
              "          ...,\n",
              "          [-2.46253952e-01],\n",
              "          [-2.46253952e-01],\n",
              "          [-2.46253952e-01]],\n",
              "\n",
              "         [[ 1.02011013e+00],\n",
              "          [ 9.43008423e-01],\n",
              "          [ 9.43008423e-01],\n",
              "          ...,\n",
              "          [-2.46253952e-01],\n",
              "          [-2.46253952e-01],\n",
              "          [-2.46253952e-01]]],\n",
              "\n",
              "\n",
              "        [[[ 1.29923475e+00],\n",
              "          [ 1.29923475e+00],\n",
              "          [ 1.35477650e+00],\n",
              "          ...,\n",
              "          [ 4.20774370e-02],\n",
              "          [ 5.00394627e-02],\n",
              "          [ 5.00394627e-02]],\n",
              "\n",
              "         [[ 1.29923475e+00],\n",
              "          [ 1.29923475e+00],\n",
              "          [ 1.35477650e+00],\n",
              "          ...,\n",
              "          [ 4.20774370e-02],\n",
              "          [ 5.00394627e-02],\n",
              "          [ 5.00394627e-02]],\n",
              "\n",
              "         [[ 1.29335523e+00],\n",
              "          [ 1.29335523e+00],\n",
              "          [ 1.29335523e+00],\n",
              "          ...,\n",
              "          [ 1.79613307e-02],\n",
              "          [ 3.18028107e-02],\n",
              "          [ 3.18028107e-02]],\n",
              "\n",
              "         ...,\n",
              "\n",
              "         [[ 1.02011013e+00],\n",
              "          [ 9.81559575e-01],\n",
              "          [ 9.81559575e-01],\n",
              "          ...,\n",
              "          [-2.46253952e-01],\n",
              "          [-2.46253952e-01],\n",
              "          [-2.46253952e-01]],\n",
              "\n",
              "         [[ 9.81559575e-01],\n",
              "          [ 9.43008423e-01],\n",
              "          [ 9.43008423e-01],\n",
              "          ...,\n",
              "          [-2.84805149e-01],\n",
              "          [-2.84805149e-01],\n",
              "          [-2.84805149e-01]],\n",
              "\n",
              "         [[ 9.81559575e-01],\n",
              "          [ 9.43008423e-01],\n",
              "          [ 9.43008423e-01],\n",
              "          ...,\n",
              "          [-2.84805149e-01],\n",
              "          [-2.84805149e-01],\n",
              "          [-2.84805149e-01]]],\n",
              "\n",
              "\n",
              "        ...,\n",
              "\n",
              "\n",
              "        [[[ 1.39077091e+00],\n",
              "          [ 1.39077091e+00],\n",
              "          [ 1.39077091e+00],\n",
              "          ...,\n",
              "          [ 6.38797656e-02],\n",
              "          [-3.79969999e-02],\n",
              "          [-3.79969999e-02]],\n",
              "\n",
              "         [[ 1.39077091e+00],\n",
              "          [ 1.39077091e+00],\n",
              "          [ 1.39077091e+00],\n",
              "          ...,\n",
              "          [ 6.38797656e-02],\n",
              "          [-3.79969999e-02],\n",
              "          [-3.79969999e-02]],\n",
              "\n",
              "         [[ 1.29335523e+00],\n",
              "          [ 1.29335523e+00],\n",
              "          [ 1.29335523e+00],\n",
              "          ...,\n",
              "          [ 8.33853800e-03],\n",
              "          [ 8.33853800e-03],\n",
              "          [ 8.33853800e-03]],\n",
              "\n",
              "         ...,\n",
              "\n",
              "         [[ 9.58511233e-01],\n",
              "          [ 9.58511233e-01],\n",
              "          [ 9.58511233e-01],\n",
              "          ...,\n",
              "          [-2.39780918e-01],\n",
              "          [-2.39780918e-01],\n",
              "          [-2.39780918e-01]],\n",
              "\n",
              "         [[ 9.58511233e-01],\n",
              "          [ 9.58511233e-01],\n",
              "          [ 9.58511233e-01],\n",
              "          ...,\n",
              "          [-2.39780918e-01],\n",
              "          [-2.39780918e-01],\n",
              "          [-2.78331488e-01]],\n",
              "\n",
              "         [[ 9.58511233e-01],\n",
              "          [ 9.58511233e-01],\n",
              "          [ 9.19960022e-01],\n",
              "          ...,\n",
              "          [-2.39780918e-01],\n",
              "          [-2.78331488e-01],\n",
              "          [-2.78331488e-01]]],\n",
              "\n",
              "\n",
              "        [[[ 1.39077091e+00],\n",
              "          [ 1.39077091e+00],\n",
              "          [ 1.40859103e+00],\n",
              "          ...,\n",
              "          [ 3.18028107e-02],\n",
              "          [-1.49492444e-02],\n",
              "          [-1.49492444e-02]],\n",
              "\n",
              "         [[ 1.39077091e+00],\n",
              "          [ 1.39077091e+00],\n",
              "          [ 1.40859103e+00],\n",
              "          ...,\n",
              "          [ 3.18028107e-02],\n",
              "          [-1.49492444e-02],\n",
              "          [-1.49492444e-02]],\n",
              "\n",
              "         [[ 1.27511859e+00],\n",
              "          [ 1.27511859e+00],\n",
              "          [ 1.27511859e+00],\n",
              "          ...,\n",
              "          [ 8.33853800e-03],\n",
              "          [ 8.33853800e-03],\n",
              "          [ 8.33853800e-03]],\n",
              "\n",
              "         ...,\n",
              "\n",
              "         [[ 9.44670320e-01],\n",
              "          [ 9.44670320e-01],\n",
              "          [ 9.44670320e-01],\n",
              "          ...,\n",
              "          [-2.48987779e-01],\n",
              "          [-2.48987779e-01],\n",
              "          [-2.48987779e-01]],\n",
              "\n",
              "         [[ 9.44670320e-01],\n",
              "          [ 9.44670320e-01],\n",
              "          [ 9.44670320e-01],\n",
              "          ...,\n",
              "          [-2.48987779e-01],\n",
              "          [-2.48987779e-01],\n",
              "          [-2.87538379e-01]],\n",
              "\n",
              "         [[ 9.44670320e-01],\n",
              "          [ 9.44670320e-01],\n",
              "          [ 9.06119168e-01],\n",
              "          ...,\n",
              "          [-2.48987779e-01],\n",
              "          [-2.87538379e-01],\n",
              "          [-2.87538379e-01]]],\n",
              "\n",
              "\n",
              "        [[[ 1.40900755e+00],\n",
              "          [ 1.40900755e+00],\n",
              "          [ 1.40859103e+00],\n",
              "          ...,\n",
              "          [ 9.34017450e-02],\n",
              "          [-6.91250316e-04],\n",
              "          [-6.91250316e-04]],\n",
              "\n",
              "         [[ 1.40900755e+00],\n",
              "          [ 1.40900755e+00],\n",
              "          [ 1.40859103e+00],\n",
              "          ...,\n",
              "          [ 9.34017450e-02],\n",
              "          [-6.91250316e-04],\n",
              "          [-6.91250316e-04]],\n",
              "\n",
              "         [[ 1.29335523e+00],\n",
              "          [ 1.29335523e+00],\n",
              "          [ 1.29335523e+00],\n",
              "          ...,\n",
              "          [ 1.03676371e-01],\n",
              "          [ 6.51257783e-02],\n",
              "          [ 2.65746042e-02]],\n",
              "\n",
              "         ...,\n",
              "\n",
              "         [[ 9.44670320e-01],\n",
              "          [ 9.83220935e-01],\n",
              "          [ 9.44670320e-01],\n",
              "          ...,\n",
              "          [-2.87538379e-01],\n",
              "          [-2.87538379e-01],\n",
              "          [-2.87538379e-01]],\n",
              "\n",
              "         [[ 9.44670320e-01],\n",
              "          [ 9.44670320e-01],\n",
              "          [ 9.44670320e-01],\n",
              "          ...,\n",
              "          [-2.87538379e-01],\n",
              "          [-2.87538379e-01],\n",
              "          [-2.87538379e-01]],\n",
              "\n",
              "         [[ 9.44670320e-01],\n",
              "          [ 9.44670320e-01],\n",
              "          [ 9.44670320e-01],\n",
              "          ...,\n",
              "          [-2.87538379e-01],\n",
              "          [-2.87538379e-01],\n",
              "          [-3.26088965e-01]]]]], dtype=float32)"
            ]
          },
          "execution_count": 28,
          "metadata": {},
          "output_type": "execute_result"
        }
      ],
      "source": [
        "val= test1.next(); val[0]"
      ]
    },
    {
      "cell_type": "code",
      "execution_count": 36,
      "metadata": {
        "id": "S1nMO7stWPV_"
      },
      "outputs": [],
      "source": [
        "\n",
        "fv = (val[0][1].astype(np.uint8) * 255).squeeze()\n",
        "\n",
        "imageio.mimsave('./animation.gif', fv, duration=100)"
      ]
    },
    {
      "cell_type": "markdown",
      "metadata": {
        "id": "BtaQcCwwWSyE"
      },
      "source": [
        "The gif created is what the model trains on along with the alignemnts to perform lip reading."
      ]
    },
    {
      "cell_type": "code",
      "execution_count": 37,
      "metadata": {
        "colab": {
          "base_uri": "https://localhost:8080/",
          "height": 244
        },
        "id": "0QaOMr47WUBt",
        "outputId": "847b515d-a712-4109-bc54-306da70e59b1"
      },
      "outputs": [
        {
          "data": {
            "text/plain": [
              "<matplotlib.image.AxesImage at 0x1b306f94940>"
            ]
          },
          "execution_count": 37,
          "metadata": {},
          "output_type": "execute_result"
        },
        {
          "data": {
            "image/png": "[encoded data removed]",
            "text/plain": [
              "<Figure size 640x480 with 1 Axes>"
            ]
          },
          "metadata": {},
          "output_type": "display_data"
        }
      ],
      "source": [
        "# 0/1: videos/alignments, 0/1: first or second video, 0-74: frames of video 1.\n",
        "plt.imshow(val[0][0][0])"
      ]
    },
    {
      "cell_type": "code",
      "execution_count": 38,
      "metadata": {
        "colab": {
          "base_uri": "https://localhost:8080/"
        },
        "id": "dmn2vBSUWfKZ",
        "outputId": "6ef33fc8-1cf3-4ce3-b500-588a1c912cbe"
      },
      "outputs": [
        {
          "data": {
            "text/plain": [
              "<tf.Tensor: shape=(), dtype=string, numpy=b'bin white by g eight now'>"
            ]
          },
          "execution_count": 38,
          "metadata": {},
          "output_type": "execute_result"
        }
      ],
      "source": [
        "tf.strings.reduce_join([num_to_char(word) for word in val[1][0]])"
      ]
    },
    {
      "cell_type": "markdown",
      "metadata": {
        "id": "aZkUorCHpa5F"
      },
      "source": [
        "# 5. Model Initialization"
      ]
    },
    {
      "cell_type": "markdown",
      "metadata": {
        "id": "KbvdIx3DsVxL"
      },
      "source": [
        "This shows us the different tensorflow and machine learning functions we use to train the model and the number of hyper parameters involved"
      ]
    },
    {
      "cell_type": "code",
      "execution_count": 39,
      "metadata": {
        "id": "8btFcGs_Whrd"
      },
      "outputs": [],
      "source": [
        "from keras.models import Sequential\n",
        "from keras.layers import Dense,Conv3D,LSTM, Dropout,Bidirectional, Activation, SpatialDropout3D, BatchNormalization, MaxPool3D,Reshape, Flatten,TimeDistributed\n",
        "from keras.optimizers import Adam\n",
        "from keras.callbacks import ModelCheckpoint, LearningRateScheduler"
      ]
    },
    {
      "cell_type": "code",
      "execution_count": 40,
      "metadata": {
        "colab": {
          "base_uri": "https://localhost:8080/"
        },
        "id": "byFf58BwWntF",
        "outputId": "c58990c5-339d-4b05-c6d8-b6d5bc95d92f"
      },
      "outputs": [
        {
          "data": {
            "text/plain": [
              "(75, 46, 140, 1)"
            ]
          },
          "execution_count": 40,
          "metadata": {},
          "output_type": "execute_result"
        }
      ],
      "source": [
        "data.as_numpy_iterator().next()[0][0].shape"
      ]
    },
    {
      "cell_type": "code",
      "execution_count": 41,
      "metadata": {
        "colab": {
          "base_uri": "https://localhost:8080/"
        },
        "id": "yUm2GlhhWpru",
        "outputId": "d35bae54-96dc-4608-abc7-5ed79ba40804"
      },
      "outputs": [
        {
          "data": {
            "text/plain": [
              "40"
            ]
          },
          "execution_count": 41,
          "metadata": {},
          "output_type": "execute_result"
        }
      ],
      "source": [
        "char_to_num.vocabulary_size()"
      ]
    },
    {
      "cell_type": "code",
      "execution_count": 34,
      "metadata": {
        "id": "SKnhup9bWsja"
      },
      "outputs": [],
      "source": [
        "model = Sequential()\n",
        "model.add(Conv3D(128, 3, input_shape=(75,46,140,1), padding='same'))\n",
        "model.add(Activation('relu'))\n",
        "model.add(MaxPool3D((1,2,2)))\n",
        "\n",
        "model.add(Conv3D(256, 3, padding='same'))\n",
        "model.add(Activation('relu'))\n",
        "model.add(MaxPool3D((1,2,2)))\n",
        "\n",
        "model.add(Conv3D(75, 3, padding='same'))\n",
        "model.add(Activation('relu'))\n",
        "model.add(MaxPool3D((1,2,2)))\n",
        "\n",
        "model.add(TimeDistributed(Flatten()))\n",
        "\n",
        "model.add(Bidirectional(LSTM(128, kernel_initializer='Orthogonal', return_sequences=True)))\n",
        "model.add(Dropout(.5))\n",
        "\n",
        "model.add(Bidirectional(LSTM(128, kernel_initializer='Orthogonal', return_sequences=True)))\n",
        "model.add(Dropout(.5))\n",
        "\n",
        "model.add(Dense(char_to_num.vocabulary_size()+1, kernel_initializer='he_normal', activation='softmax'))"
      ]
    },
    {
      "cell_type": "code",
      "execution_count": 35,
      "metadata": {
        "colab": {
          "base_uri": "https://localhost:8080/"
        },
        "id": "YFQM8o7WWwkv",
        "outputId": "bf8dbf9e-19ff-494d-a0c2-42b6bac5870f"
      },
      "outputs": [
        {
          "name": "stdout",
          "output_type": "stream",
          "text": [
            "Model: \"sequential\"\n",
            "_________________________________________________________________\n",
            " Layer (type)                Output Shape              Param #   \n",
            "=================================================================\n",
            " conv3d (Conv3D)             (None, 75, 46, 140, 128)  3584      \n",
            "                                                                 \n",
            " activation (Activation)     (None, 75, 46, 140, 128)  0         \n",
            "                                                                 \n",
            " max_pooling3d (MaxPooling3D  (None, 75, 23, 70, 128)  0         \n",
            " )                                                               \n",
            "                                                                 \n",
            " conv3d_1 (Conv3D)           (None, 75, 23, 70, 256)   884992    \n",
            "                                                                 \n",
            " activation_1 (Activation)   (None, 75, 23, 70, 256)   0         \n",
            "                                                                 \n",
            " max_pooling3d_1 (MaxPooling  (None, 75, 11, 35, 256)  0         \n",
            " 3D)                                                             \n",
            "                                                                 \n",
            " conv3d_2 (Conv3D)           (None, 75, 11, 35, 75)    518475    \n",
            "                                                                 \n",
            " activation_2 (Activation)   (None, 75, 11, 35, 75)    0         \n",
            "                                                                 \n",
            " max_pooling3d_2 (MaxPooling  (None, 75, 5, 17, 75)    0         \n",
            " 3D)                                                             \n",
            "                                                                 \n",
            " time_distributed (TimeDistr  (None, 75, 6375)         0         \n",
            " ibuted)                                                         \n",
            "                                                                 \n",
            " bidirectional (Bidirectiona  (None, 75, 256)          6660096   \n",
            " l)                                                              \n",
            "                                                                 \n",
            " dropout (Dropout)           (None, 75, 256)           0         \n",
            "                                                                 \n",
            " bidirectional_1 (Bidirectio  (None, 75, 256)          394240    \n",
            " nal)                                                            \n",
            "                                                                 \n",
            " dropout_1 (Dropout)         (None, 75, 256)           0         \n",
            "                                                                 \n",
            " dense (Dense)               (None, 75, 41)            10537     \n",
            "                                                                 \n",
            "=================================================================\n",
            "Total params: 8,471,924\n",
            "Trainable params: 8,471,924\n",
            "Non-trainable params: 0\n",
            "_________________________________________________________________\n"
          ]
        }
      ],
      "source": [
        "model.summary()"
      ]
    },
    {
      "cell_type": "code",
      "execution_count": 36,
      "metadata": {
        "colab": {
          "base_uri": "https://localhost:8080/"
        },
        "id": "B_OHK7P_W0jv",
        "outputId": "02456f34-aabf-4d79-fd0a-e7ce809e7bc5"
      },
      "outputs": [
        {
          "name": "stdout",
          "output_type": "stream",
          "text": [
            "1/1 [==============================] - 2s 2s/step\n"
          ]
        }
      ],
      "source": [
        "yhat = model.predict(val[0])"
      ]
    },
    {
      "cell_type": "code",
      "execution_count": 37,
      "metadata": {
        "colab": {
          "base_uri": "https://localhost:8080/"
        },
        "id": "-mlmpo_nW1IX",
        "outputId": "b582a355-e070-4526-de2c-a6e71a31901d"
      },
      "outputs": [
        {
          "data": {
            "text/plain": [
              "(75, 41)"
            ]
          },
          "execution_count": 37,
          "metadata": {},
          "output_type": "execute_result"
        }
      ],
      "source": [
        "yhat[0].shape"
      ]
    },
    {
      "cell_type": "code",
      "execution_count": 38,
      "metadata": {
        "colab": {
          "base_uri": "https://localhost:8080/"
        },
        "id": "yDK7_fm5W4QE",
        "outputId": "d4271cf8-ba64-40b4-dd3d-d5d5c185fa88"
      },
      "outputs": [
        {
          "data": {
            "text/plain": [
              "<tf.Tensor: shape=(), dtype=string, numpy=b'lll??????????????????????????????????????????????????????????????????444444'>"
            ]
          },
          "execution_count": 38,
          "metadata": {},
          "output_type": "execute_result"
        }
      ],
      "source": [
        "tf.strings.reduce_join([num_to_char(tf.argmax(x)) for x in yhat[1]])"
      ]
    },
    {
      "cell_type": "code",
      "execution_count": 39,
      "metadata": {
        "colab": {
          "base_uri": "https://localhost:8080/"
        },
        "id": "fkp0FmQ1W58_",
        "outputId": "b921f692-875b-42ba-dea3-c27ac93e2d80"
      },
      "outputs": [
        {
          "data": {
            "text/plain": [
              "(None, 75, 46, 140, 1)"
            ]
          },
          "execution_count": 39,
          "metadata": {},
          "output_type": "execute_result"
        }
      ],
      "source": [
        "model.input_shape"
      ]
    },
    {
      "cell_type": "code",
      "execution_count": 40,
      "metadata": {
        "colab": {
          "base_uri": "https://localhost:8080/"
        },
        "id": "f-CtqFjZW871",
        "outputId": "650efffb-3e71-4fb9-ec49-ead646cf0b73"
      },
      "outputs": [
        {
          "data": {
            "text/plain": [
              "(None, 75, 41)"
            ]
          },
          "execution_count": 40,
          "metadata": {},
          "output_type": "execute_result"
        }
      ],
      "source": [
        "model.output_shape"
      ]
    },
    {
      "cell_type": "markdown",
      "metadata": {
        "id": "2DC1bxSfW_q_"
      },
      "source": [
        "# 6. Setting Up Model Training"
      ]
    },
    {
      "cell_type": "code",
      "execution_count": 41,
      "metadata": {
        "id": "i7CecBhNW-Wg"
      },
      "outputs": [],
      "source": [
        "def scheduler(epoch,lr):\n",
        "  if epoch<30:\n",
        "    return lr\n",
        "  else:\n",
        "    return lr*tf.math.exp(-0.1)"
      ]
    },
    {
      "cell_type": "code",
      "execution_count": 42,
      "metadata": {
        "id": "n1yXfX2EXIbx"
      },
      "outputs": [],
      "source": [
        "#CTC LOSS - this block of code has been picked up from Automatic Speech Recognition using CTC paper.\n",
        "def CTCLoss(y_true,y_pred):\n",
        "  batch_len = tf.cast(tf.shape(y_true)[0], dtype='int64')\n",
        "  input_length = tf.cast(tf.shape(y_pred)[1], dtype='int64')\n",
        "  label_length = tf.cast(tf.shape(y_true)[1], dtype='int64')\n",
        "\n",
        "  input_length=input_length* tf.ones(shape=(batch_len,1),dtype='int64')\n",
        "  label_length = label_length* tf.ones(shape=(batch_len,1), dtype='int64')\n",
        "\n",
        "  loss = tf.keras.backend.ctc_batch_cost(y_true, y_pred, input_length, label_length)\n",
        "  return loss\n"
      ]
    },
    {
      "cell_type": "code",
      "execution_count": 43,
      "metadata": {
        "id": "AdQhi8aeXJ18"
      },
      "outputs": [],
      "source": [
        "class ProduceExample(tf.keras.callbacks.Callback):\n",
        "    def __init__(self, dataset) -> None:\n",
        "        self.dataset = dataset.as_numpy_iterator()\n",
        "\n",
        "    def on_epoch_end(self, epoch, logs=None) -> None:\n",
        "        data = self.dataset.next()\n",
        "        yhat = self.model.predict(data[0])\n",
        "        decoded = tf.keras.backend.ctc_decode(yhat, [75,75], greedy=False)[0][0].numpy()\n",
        "        for x in range(len(yhat)):\n",
        "            print('Original:', tf.strings.reduce_join(num_to_char(data[1][x])).numpy().decode('utf-8'))\n",
        "            print('Prediction:', tf.strings.reduce_join(num_to_char(decoded[x])).numpy().decode('utf-8'))\n",
        "            print('~'*100)"
      ]
    },
    {
      "cell_type": "code",
      "execution_count": 44,
      "metadata": {
        "id": "PHxGTvQ8XLXI"
      },
      "outputs": [],
      "source": [
        "model.compile(optimizer=tf.keras.optimizers.legacy.Adam(learning_rate=0.0001),loss =CTCLoss)"
      ]
    },
    {
      "cell_type": "code",
      "execution_count": 45,
      "metadata": {
        "id": "EjwDP6RtXO4l"
      },
      "outputs": [],
      "source": [
        "checkpoint_callback= ModelCheckpoint(os.path.join('models','checkpoint.h5'),monitor='loss', save_weights_only=True, save_best_only=True)\n"
      ]
    },
    {
      "cell_type": "code",
      "execution_count": 46,
      "metadata": {
        "id": "FwF2kWckXQJa"
      },
      "outputs": [],
      "source": [
        "schedule_callback = LearningRateScheduler(scheduler)"
      ]
    },
    {
      "cell_type": "code",
      "execution_count": 47,
      "metadata": {
        "id": "P6IETmozXRcE"
      },
      "outputs": [],
      "source": [
        "example_callback = ProduceExample(data)"
      ]
    },
    {
      "cell_type": "code",
      "execution_count": null,
      "metadata": {
        "id": "Z2biqHzEXSq3"
      },
      "outputs": [],
      "source": [
        "model.fit(train, validation_data=test, epochs=50, callbacks=[checkpoint_callback, schedule_callback, example_callback], )"
      ]
    },
    {
      "cell_type": "markdown",
      "metadata": {
        "id": "9XKJctnhzP13"
      },
      "source": [
        "We can take note how by 50 epochs the model starts recognising and predicting comparble sentences."
      ]
    },
    {
      "cell_type": "markdown",
      "metadata": {
        "id": "pl1-3Aj6gXNY"
      },
      "source": [
        "# 7. Calculating Metrics"
      ]
    },
    {
      "cell_type": "markdown",
      "metadata": {
        "id": "nvYyTsCmqVVR"
      },
      "source": [
        "Loading in the checkpoint weights to calculate the metrics and train the model"
      ]
    },
    {
      "cell_type": "code",
      "execution_count": 49,
      "metadata": {
        "colab": {
          "base_uri": "https://localhost:8080/"
        },
        "id": "07UTirFWv0NP",
        "outputId": "8d7a57d3-d18d-4a80-ad12-a8f6b6737e39"
      },
      "outputs": [
        {
          "data": {
            "text/plain": [
              "<tensorflow.python.checkpoint.checkpoint.CheckpointLoadStatus at 0x19d33b6d450>"
            ]
          },
          "execution_count": 49,
          "metadata": {},
          "output_type": "execute_result"
        }
      ],
      "source": [
        "model.load_weights('models/checkpoint')"
      ]
    },
    {
      "cell_type": "code",
      "execution_count": 51,
      "metadata": {
        "colab": {
          "base_uri": "https://localhost:8080/",
          "height": 582
        },
        "id": "fwcykXuMqKcD",
        "outputId": "6c6b814e-85a7-4709-ab75-dbb97473c20d"
      },
      "outputs": [
        {
          "name": "stdout",
          "output_type": "stream",
          "text": [
            "1/1 [==============================] - 1s 1s/step\n",
            "1/1 [==============================] - 0s 109ms/step\n",
            "1/1 [==============================] - 0s 100ms/step\n",
            "1/1 [==============================] - 0s 98ms/step\n",
            "1/1 [==============================] - 0s 100ms/step\n",
            "1/1 [==============================] - 0s 98ms/step\n",
            "1/1 [==============================] - 0s 100ms/step\n",
            "1/1 [==============================] - 0s 95ms/step\n",
            "1/1 [==============================] - 0s 99ms/step\n",
            "1/1 [==============================] - 0s 99ms/step\n",
            "1/1 [==============================] - 0s 98ms/step\n",
            "1/1 [==============================] - 0s 98ms/step\n",
            "1/1 [==============================] - 0s 101ms/step\n",
            "1/1 [==============================] - 0s 99ms/step\n",
            "1/1 [==============================] - 0s 95ms/step\n",
            "1/1 [==============================] - 0s 98ms/step\n",
            "1/1 [==============================] - 0s 99ms/step\n",
            "1/1 [==============================] - 0s 101ms/step\n",
            "1/1 [==============================] - 0s 99ms/step\n",
            "1/1 [==============================] - 0s 96ms/step\n",
            "1/1 [==============================] - 0s 99ms/step\n",
            "1/1 [==============================] - 0s 101ms/step\n",
            "1/1 [==============================] - 0s 105ms/step\n",
            "1/1 [==============================] - 0s 98ms/step\n",
            "1/1 [==============================] - 0s 104ms/step\n",
            "1/1 [==============================] - 0s 96ms/step\n",
            "1/1 [==============================] - 0s 99ms/step\n",
            "1/1 [==============================] - 0s 102ms/step\n",
            "1/1 [==============================] - 0s 96ms/step\n",
            "1/1 [==============================] - 0s 101ms/step\n",
            "1/1 [==============================] - 0s 98ms/step\n",
            "1/1 [==============================] - 0s 97ms/step\n",
            "1/1 [==============================] - 0s 98ms/step\n",
            "1/1 [==============================] - 0s 98ms/step\n",
            "1/1 [==============================] - 0s 99ms/step\n",
            "1/1 [==============================] - 0s 95ms/step\n",
            "1/1 [==============================] - 0s 95ms/step\n",
            "1/1 [==============================] - 0s 103ms/step\n",
            "1/1 [==============================] - 0s 100ms/step\n",
            "1/1 [==============================] - 0s 105ms/step\n",
            "1/1 [==============================] - 0s 96ms/step\n",
            "1/1 [==============================] - 0s 100ms/step\n",
            "1/1 [==============================] - 0s 98ms/step\n",
            "1/1 [==============================] - 0s 97ms/step\n",
            "1/1 [==============================] - 0s 96ms/step\n",
            "1/1 [==============================] - 0s 97ms/step\n",
            "1/1 [==============================] - 0s 96ms/step\n",
            "1/1 [==============================] - 0s 97ms/step\n",
            "1/1 [==============================] - 0s 97ms/step\n",
            "1/1 [==============================] - 0s 97ms/step\n",
            "Word Error Rate on Test Dataset: 16.67%\n"
          ]
        }
      ],
      "source": [
        "# Initialize variables to track performance\n",
        "total_words = 0\n",
        "total_errors = 0\n",
        "\n",
        "# Loop over each video in the test dataset\n",
        "for sample in test:\n",
        "    # Predict using the model\n",
        "    yhat = model.predict(sample[0])\n",
        "\n",
        "    ground_truth = [tf.strings.reduce_join([num_to_char(word) for word in sentence]) for sentence in sample[1]]\n",
        "    decoded = tf.keras.backend.ctc_decode(yhat, input_length=[75,75], greedy=True)[0][0].numpy()\n",
        "    predictions = [tf.strings.reduce_join([num_to_char(word) for word in sentence]) for sentence in decoded]\n",
        "\n",
        "    for i in range(len(predictions)):\n",
        "        # Split predictions and ground truth into words\n",
        "        prediction_words = predictions[i].numpy().split()\n",
        "        ground_truth_words = ground_truth[i].numpy().split()\n",
        "\n",
        "        # Calculate Levenshtein distance (edit distance) between predictions and ground truth\n",
        "        errors = np.sum(prediction_words != ground_truth_words)\n",
        "        total_errors += errors\n",
        "        total_words += len(ground_truth_words)\n",
        "\n",
        "# Calculate Word Error Rate\n",
        "wer = (total_errors / total_words) * 100\n",
        "print(f\"Word Error Rate on Test Dataset: {wer:.2f}%\")\n",
        "\n"
      ]
    },
    {
      "cell_type": "code",
      "execution_count": null,
      "metadata": {
        "colab": {
          "base_uri": "https://localhost:8080/"
        },
        "id": "wZSKNHZBGWJS",
        "outputId": "a810f88c-4c4a-452a-89ca-13b44dd3f8c1"
      },
      "outputs": [],
      "source": [
        "total_samples = 0\n",
        "correct_predictions = 0\n",
        "# Looping over each vid\n",
        "for sample in test.take(50):\n",
        "    # Prediction using Lipsin model\n",
        "    yhat = model.predict(sample[0])\n",
        "\n",
        "    ground_truth = [tf.strings.reduce_join([num_to_char(word) for word in sentence]) for sentence in sample[1]]\n",
        "    decoded = tf.keras.backend.ctc_decode(yhat, input_length=[75,75], greedy=True)[0][0].numpy()\n",
        "    predictions = [tf.strings.reduce_join([num_to_char(word) for word in sentence]) for sentence in decoded]\n",
        "\n",
        "    for i in range(len(predictions)):\n",
        "        total_samples += 1\n",
        "        prediction = predictions[i].numpy()\n",
        "        gt = ground_truth[i].numpy()\n",
        "        if prediction == gt:\n",
        "            correct_predictions += 1\n",
        "\n",
        "# Calculate accuracy percentage\n",
        "accuracy_percentage = (correct_predictions / total_samples) * 100\n",
        "print(f\"Accuracy: {accuracy_percentage:.2f}%\")\n"
      ]
    },
    {
      "cell_type": "markdown",
      "metadata": {
        "id": "JBHWYGyAqupp"
      },
      "source": [
        "# 8. Testing on Random unseen videos"
      ]
    },
    {
      "cell_type": "markdown",
      "metadata": {
        "id": "M82HbFt0qYrE"
      },
      "source": [
        "loading a random video as a sample"
      ]
    },
    {
      "cell_type": "code",
      "execution_count": 50,
      "metadata": {
        "id": "CM0W0MSLwItr"
      },
      "outputs": [],
      "source": [
        "sample = test.as_numpy_iterator().next()"
      ]
    },
    {
      "cell_type": "code",
      "execution_count": 51,
      "metadata": {
        "colab": {
          "base_uri": "https://localhost:8080/"
        },
        "id": "v1Iznxlksrrs",
        "outputId": "214c7c4d-b706-4e9b-f564-bf1a8fd572c0"
      },
      "outputs": [
        {
          "name": "stdout",
          "output_type": "stream",
          "text": [
            "1/1 [==============================] - 1s 1s/step\n"
          ]
        }
      ],
      "source": [
        "yhat = model.predict(sample[0])"
      ]
    },
    {
      "cell_type": "code",
      "execution_count": 57,
      "metadata": {
        "colab": {
          "base_uri": "https://localhost:8080/"
        },
        "id": "6zfUpl_K3hXm",
        "outputId": "9047a12c-4715-4a97-e5e3-7569cfaee68c"
      },
      "outputs": [
        {
          "name": "stdout",
          "output_type": "stream",
          "text": [
            "~~~~~~~~~~~~~~~~~~~~ REAL TEXT ~~~~~~~~~~~~~~~~~~~~\n"
          ]
        },
        {
          "data": {
            "text/plain": [
              "[<tf.Tensor: shape=(), dtype=string, numpy=b'place red at p four now'>,\n",
              " <tf.Tensor: shape=(), dtype=string, numpy=b'set white by i five soon'>]"
            ]
          },
          "execution_count": 57,
          "metadata": {},
          "output_type": "execute_result"
        }
      ],
      "source": [
        "print('~'*20, 'REAL TEXT','~'*20)\n",
        "[tf.strings.reduce_join([num_to_char(word) for word in sentence]) for sentence in sample[1]]"
      ]
    },
    {
      "cell_type": "code",
      "execution_count": null,
      "metadata": {
        "colab": {
          "base_uri": "https://localhost:8080/"
        },
        "id": "TYYUfjF44aVo",
        "outputId": "0f04a9da-27f2-4559-b3c9-47fb8c581241"
      },
      "outputs": [],
      "source": [
        "decoded = tf.keras.backend.ctc_decode(yhat, input_length=[75,75], greedy=True)[0][0].numpy()\n",
        "print('~'*20, 'PREDICTIONS','~'*20)\n",
        "[tf.strings.reduce_join([num_to_char(word) for word in sentence]) for sentence in decoded]\n"
      ]
    },
    {
      "cell_type": "markdown",
      "metadata": {
        "id": "WpGwQ1cdu5pD"
      },
      "source": [
        "Our predictions seem to be near perfect."
      ]
    },
    {
      "cell_type": "markdown",
      "metadata": {
        "id": "0hO_Qiu0rDOh"
      },
      "source": [
        "# END"
      ]
    }
  ],
  "metadata": {
    "accelerator": "GPU",
    "colab": {
      "gpuType": "T4",
      "machine_shape": "hm",
      "provenance": []
    },
    "kernelspec": {
      "display_name": "Python 3",
      "name": "python3"
    },
    "language_info": {
      "codemirror_mode": {
        "name": "ipython",
        "version": 3
      },
      "file_extension": ".py",
      "mimetype": "text/x-python",
      "name": "python",
      "nbconvert_exporter": "python",
      "pygments_lexer": "ipython3",
      "version": "3.10.14"
    }
  },
  "nbformat": 4,
  "nbformat_minor": 0
}
